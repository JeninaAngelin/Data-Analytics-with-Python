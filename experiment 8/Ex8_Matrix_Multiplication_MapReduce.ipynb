{
  "nbformat": 4,
  "nbformat_minor": 0,
  "metadata": {
    "colab": {
      "provenance": []
    },
    "kernelspec": {
      "name": "python3",
      "display_name": "Python 3"
    },
    "language_info": {
      "name": "python"
    }
  },
  "cells": [
    {
      "cell_type": "code",
      "execution_count": 53,
      "metadata": {
        "id": "2LSYBtplEntI"
      },
      "outputs": [],
      "source": [
        "from pyspark import SparkContext\n",
        "from pyspark.sql import SparkSession"
      ]
    },
    {
      "cell_type": "code",
      "source": [
        "# Get or create SparkContext\n",
        "sc = SparkContext.getOrCreate()"
      ],
      "metadata": {
        "id": "r4C2I8_kRA5v"
      },
      "execution_count": 54,
      "outputs": []
    },
    {
      "cell_type": "code",
      "source": [
        "# Initialize SparkSession\n",
        "spark = SparkSession(sc)"
      ],
      "metadata": {
        "id": "3svKOwgjRIdx"
      },
      "execution_count": 55,
      "outputs": []
    },
    {
      "cell_type": "code",
      "source": [
        "matrix_a=[((1,1),5),((1,1),0),((2,1),0),((1,2),0)]\n",
        "matrix_b=[((1,1),5),((1,1),0),((2,1),0),((1,2),0)]"
      ],
      "metadata": {
        "id": "bQQ_jGRTGc6G"
      },
      "execution_count": 58,
      "outputs": []
    },
    {
      "cell_type": "code",
      "source": [
        "matrix_a"
      ],
      "metadata": {
        "id": "-tKe3JbIOQeC",
        "outputId": "2326e67b-0d17-46d0-f3ce-08071a8fc595",
        "colab": {
          "base_uri": "https://localhost:8080/"
        }
      },
      "execution_count": 59,
      "outputs": [
        {
          "output_type": "execute_result",
          "data": {
            "text/plain": [
              "[((1, 1), 5), ((1, 1), 0), ((2, 1), 0), ((1, 2), 0)]"
            ]
          },
          "metadata": {},
          "execution_count": 59
        }
      ]
    },
    {
      "cell_type": "code",
      "source": [
        "rdd_a=sc.parallelize(matrix_a)\n",
        "rdd_b=sc.parallelize(matrix_b)\n",
        "rdd_a"
      ],
      "metadata": {
        "id": "iQoON9qNON9_",
        "outputId": "de5d61e4-9130-4cb6-f8c9-802ebe058261",
        "colab": {
          "base_uri": "https://localhost:8080/"
        }
      },
      "execution_count": 60,
      "outputs": [
        {
          "output_type": "execute_result",
          "data": {
            "text/plain": [
              "ParallelCollectionRDD[10] at readRDDFromFile at PythonRDD.scala:289"
            ]
          },
          "metadata": {},
          "execution_count": 60
        }
      ]
    },
    {
      "cell_type": "code",
      "source": [
        "mapped_a=rdd_a.flatMap(lambda x: [((x[0][0],i),('A',x[0][1],x[1])) for i in range(2)])\n",
        "mapped_b=rdd_b.flatMap(lambda x: [((i,x[0][1]),('B',x[0][0],x[1])) for i in range(2)])\n",
        "mapped_b"
      ],
      "metadata": {
        "id": "rRkZ5_EoOe0o",
        "outputId": "3db1c3fc-8945-4d9a-a05c-c453ad6fa9a9",
        "colab": {
          "base_uri": "https://localhost:8080/"
        }
      },
      "execution_count": 47,
      "outputs": [
        {
          "output_type": "execute_result",
          "data": {
            "text/plain": [
              "PythonRDD[2] at RDD at PythonRDD.scala:53"
            ]
          },
          "metadata": {},
          "execution_count": 47
        }
      ]
    },
    {
      "cell_type": "code",
      "source": [
        "# Reduce step\n",
        "combined_rdd = mapped_a.union(mapped_b).groupByKey()\n",
        "combined_rdd"
      ],
      "metadata": {
        "id": "ztJ1ars_RjFw",
        "outputId": "481264c1-6968-48e8-cea7-3dbfb7f5a1a4",
        "colab": {
          "base_uri": "https://localhost:8080/"
        }
      },
      "execution_count": 62,
      "outputs": [
        {
          "output_type": "execute_result",
          "data": {
            "text/plain": [
              "PythonRDD[22] at RDD at PythonRDD.scala:53"
            ]
          },
          "metadata": {},
          "execution_count": 62
        }
      ]
    },
    {
      "cell_type": "code",
      "source": [
        "def multiply_matrices(x):\n",
        " result = []\n",
        " for val in list(x[1]):\n",
        "  if val[0] == 'A':\n",
        "    for val_b in list(x[1]):\n",
        "      if val_b[0] == 'B':\n",
        "        result.append(val[1] * val_b[1] * val[2] * val_b[2])\n",
        " return (x[0], sum(result))"
      ],
      "metadata": {
        "id": "_kEB0DLhGzgY"
      },
      "execution_count": 63,
      "outputs": []
    },
    {
      "cell_type": "code",
      "source": [
        "result_rdd = combined_rdd.map(multiply_matrices)"
      ],
      "metadata": {
        "id": "3xsyACIISI02"
      },
      "execution_count": 64,
      "outputs": []
    },
    {
      "cell_type": "code",
      "source": [
        "result=result_rdd.collect()\n",
        "result"
      ],
      "metadata": {
        "id": "9ghESWkUQAra",
        "outputId": "fa1576ba-8b88-4749-bb74-3daf10a44e80",
        "colab": {
          "base_uri": "https://localhost:8080/"
        }
      },
      "execution_count": 65,
      "outputs": [
        {
          "output_type": "execute_result",
          "data": {
            "text/plain": [
              "[((1, 1), 25),\n",
              " ((2, 0), 0),\n",
              " ((0, 2), 0),\n",
              " ((0, 1), 0),\n",
              " ((1, 2), 0),\n",
              " ((1, 0), 0),\n",
              " ((2, 1), 0)]"
            ]
          },
          "metadata": {},
          "execution_count": 65
        }
      ]
    }
  ]
}