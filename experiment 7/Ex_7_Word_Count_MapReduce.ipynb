{
  "nbformat": 4,
  "nbformat_minor": 0,
  "metadata": {
    "colab": {
      "provenance": []
    },
    "kernelspec": {
      "name": "python3",
      "display_name": "Python 3"
    },
    "language_info": {
      "name": "python"
    }
  },
  "cells": [
    {
      "cell_type": "code",
      "execution_count": 35,
      "metadata": {
        "id": "2LSYBtplEntI"
      },
      "outputs": [],
      "source": [
        "from collections import defaultdict\n",
        "from concurrent.futures import ThreadPoolExecutor"
      ]
    },
    {
      "cell_type": "code",
      "source": [
        "def mapper(text):\n",
        "  words=text.split()\n",
        "  word_count=defaultdict(int)\n",
        "  for word in words:\n",
        "    word_count[word]+=1\n",
        "  return word_count.items()"
      ],
      "metadata": {
        "id": "bQQ_jGRTGc6G"
      },
      "execution_count": 36,
      "outputs": []
    },
    {
      "cell_type": "code",
      "source": [
        "def reducer(item):\n",
        "  word,counts=item\n",
        "  return word,sum(counts)"
      ],
      "metadata": {
        "id": "_kEB0DLhGzgY"
      },
      "execution_count": 37,
      "outputs": []
    },
    {
      "cell_type": "code",
      "source": [
        "def map_reduce(data):\n",
        "  with ThreadPoolExecutor() as executor:\n",
        "    mapped_data=list(executor.map(mapper,data))\n",
        "    reduced_data=defaultdict(list)\n",
        "    for sublist in mapped_data:\n",
        "      for item in sublist:\n",
        "        word,count=item\n",
        "        reduced_data[word].append(count)\n",
        "  with ThreadPoolExecutor() as executor:\n",
        "    reduced_data=list(executor.map(reducer,reduced_data.items()))\n",
        "    return reduced_data"
      ],
      "metadata": {
        "id": "vRVjt5WFFJGe"
      },
      "execution_count": 40,
      "outputs": []
    },
    {
      "cell_type": "code",
      "source": [
        "if __name__==\"__main__\":\n",
        "  data=[\"hi hi ji\",\"hi ji\",\"ji ji ji ji hi\"]\n",
        "  result=map_reduce(data)\n",
        "  print(result)"
      ],
      "metadata": {
        "colab": {
          "base_uri": "https://localhost:8080/"
        },
        "id": "al4JNqhNExpp",
        "outputId": "af81f214-1eeb-4cf1-9d9a-0710a7415989"
      },
      "execution_count": 41,
      "outputs": [
        {
          "output_type": "stream",
          "name": "stdout",
          "text": [
            "[('hi', 4), ('ji', 6)]\n"
          ]
        }
      ]
    },
    {
      "cell_type": "code",
      "source": [],
      "metadata": {
        "id": "6RVusK7OHIiv"
      },
      "execution_count": 39,
      "outputs": []
    }
  ]
}