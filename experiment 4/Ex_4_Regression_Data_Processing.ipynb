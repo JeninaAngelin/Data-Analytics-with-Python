{
  "nbformat": 4,
  "nbformat_minor": 0,
  "metadata": {
    "colab": {
      "provenance": []
    },
    "kernelspec": {
      "name": "python3",
      "display_name": "Python 3"
    },
    "language_info": {
      "name": "python"
    }
  },
  "cells": [
    {
      "cell_type": "code",
      "execution_count": 66,
      "metadata": {
        "id": "2LSYBtplEntI"
      },
      "outputs": [],
      "source": [
        "import numpy as np\n",
        "import pandas as pd\n",
        "from sklearn.preprocessing import StandardScaler"
      ]
    },
    {
      "cell_type": "code",
      "source": [
        "data = {\n",
        "'SquareFeet': [650, 850, np.nan, 1100, 950, 1170, 980, np.nan, 700, 850, 1000, 960, 850],\n",
        "'Bedrooms': [2, 3, 2, 3, np.nan, 4, 3, 4, 2, 3, 3, 2, 3],\n",
        "'Age': [5, 7, 3, 10, 2, 12, 8, 4, 5, 6, 9, 11, 7],\n",
        "'Price': [300000, 350000, 320000, 500000, 330000, 600000, 370000, 620000, 310000,340000, 400000, 360000, 350000]\n",
        "}"
      ],
      "metadata": {
        "id": "r4C2I8_kRA5v"
      },
      "execution_count": 67,
      "outputs": []
    },
    {
      "cell_type": "code",
      "source": [
        "df = pd.DataFrame(data)\n",
        "# Fill missing values with the median\n",
        "for column in ['SquareFeet', 'Bedrooms', 'Age']:\n",
        "  df[column].fillna(df[column].median(), inplace=True)"
      ],
      "metadata": {
        "id": "3svKOwgjRIdx"
      },
      "execution_count": 68,
      "outputs": []
    },
    {
      "cell_type": "code",
      "source": [
        "df.drop_duplicates(inplace=True)"
      ],
      "metadata": {
        "id": "_b6C4aSIcVha"
      },
      "execution_count": 69,
      "outputs": []
    },
    {
      "cell_type": "code",
      "source": [
        "scaler = StandardScaler()\n",
        "df[['SquareFeet', 'Bedrooms', 'Age']] = scaler.fit_transform(df[['SquareFeet', 'Bedrooms','Age']])"
      ],
      "metadata": {
        "id": "bQQ_jGRTGc6G"
      },
      "execution_count": 70,
      "outputs": []
    },
    {
      "cell_type": "code",
      "source": [
        "def detect_outliers_iqr(df, feature):\n",
        "  Q1 = df[feature].quantile(0.25)\n",
        "  Q3 = df[feature].quantile(0.75)\n",
        "  IQR = Q3 - Q1\n",
        "  lower_bound = Q1 - 1.5 * IQR\n",
        "  upper_bound = Q3 + 1.5 * IQR\n",
        "  outliers = df[(df[feature] < lower_bound) | (df[feature] > upper_bound)]\n",
        "  return outliers"
      ],
      "metadata": {
        "id": "-tKe3JbIOQeC"
      },
      "execution_count": 71,
      "outputs": []
    },
    {
      "cell_type": "code",
      "source": [
        "outliers_squarefeet = detect_outliers_iqr(df, 'SquareFeet')\n",
        "print(\"Outliers detected using IQR in 'SquareFeet':\\n\", outliers_squarefeet)"
      ],
      "metadata": {
        "id": "BP0hg_YQeZgD",
        "outputId": "d3f2a773-53c4-4e0a-96db-f9fada48a8f2",
        "colab": {
          "base_uri": "https://localhost:8080/"
        }
      },
      "execution_count": 74,
      "outputs": [
        {
          "output_type": "stream",
          "name": "stdout",
          "text": [
            "Outliers detected using IQR in 'SquareFeet':\n",
            " Empty DataFrame\n",
            "Columns: [SquareFeet, Bedrooms, Age, Price]\n",
            "Index: []\n"
          ]
        }
      ]
    },
    {
      "cell_type": "code",
      "source": [
        "from sklearn.model_selection import train_test_split\n",
        "from sklearn.metrics import mean_squared_error"
      ],
      "metadata": {
        "id": "iQoON9qNON9_"
      },
      "execution_count": 75,
      "outputs": []
    },
    {
      "cell_type": "code",
      "source": [
        "from sklearn.linear_model import LinearRegression\n",
        "X = df[['SquareFeet', 'Bedrooms', 'Age']] # Independent variables\n",
        "y = df['Price'] # Dependent variable\n",
        "# Splitting dataset into training and testing sets\n",
        "X_train, X_test, y_train, y_test = train_test_split(X, y, test_size=0.2, random_state=42)\n",
        "# Fitting the linear regression model\n",
        "linear_reg = LinearRegression()\n",
        "linear_reg.fit(X_train, y_train)\n",
        "# Making predictions and evaluating the model\n",
        "y_pred = linear_reg.predict(X_test)\n",
        "print(\"Linear Regression RMSE:\", np.sqrt(mean_squared_error(y_test, y_pred)))"
      ],
      "metadata": {
        "colab": {
          "base_uri": "https://localhost:8080/"
        },
        "id": "rRkZ5_EoOe0o",
        "outputId": "f7851eff-03d0-4eaf-b423-83f8c3b38089"
      },
      "execution_count": 76,
      "outputs": [
        {
          "output_type": "stream",
          "name": "stdout",
          "text": [
            "Linear Regression RMSE: 53952.69437438349\n"
          ]
        }
      ]
    },
    {
      "cell_type": "code",
      "source": [
        "from sklearn.preprocessing import PolynomialFeatures\n",
        "# Transforming the features into polynomial features\n",
        "poly = PolynomialFeatures(degree=2) # You can adjust the degree based on your analysis\n",
        "X_poly = poly.fit_transform(X)\n",
        "X_train_poly, X_test_poly, y_train, y_test = train_test_split(X_poly, y, test_size=0.2,random_state=42)\n",
        "# Fitting the linear regression model on polynomial features\n",
        "poly_reg = LinearRegression()\n",
        "poly_reg.fit(X_train_poly, y_train)\n",
        "# Making predictions and evaluating the model\n",
        "y_pred_poly = poly_reg.predict(X_test_poly)\n",
        "print(\"Polynomial Regression RMSE:\", np.sqrt(mean_squared_error(y_test, y_pred_poly)))"
      ],
      "metadata": {
        "colab": {
          "base_uri": "https://localhost:8080/"
        },
        "id": "ztJ1ars_RjFw",
        "outputId": "16d20583-c3ad-4d09-d186-4e8276324c10"
      },
      "execution_count": 80,
      "outputs": [
        {
          "output_type": "stream",
          "name": "stdout",
          "text": [
            "Polynomial Regression RMSE: 37736.92624527236\n"
          ]
        }
      ]
    }
  ]
}